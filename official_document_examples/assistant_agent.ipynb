{
 "cells": [
  {
   "cell_type": "code",
   "id": "initial_id",
   "metadata": {
    "collapsed": true,
    "ExecuteTime": {
     "end_time": "2025-03-21T04:22:18.447496Z",
     "start_time": "2025-03-21T04:22:18.163506Z"
    }
   },
   "source": [
    "from autogen_agentchat.agents import AssistantAgent\n",
    "from autogen_agentchat.messages import TextMessage\n",
    "from autogen_core import CancellationToken\n",
    "from autogen_ext.models.ollama import OllamaChatCompletionClient\n",
    "\n",
    "async def web_search(query: str) -> str:\n",
    "    \"\"\"Find information on the web\"\"\"\n",
    "    return \"AutoGen is a programming framework for building multi-agent applications.\"\n",
    "\n",
    "model_client = OllamaChatCompletionClient(\n",
    "    model=\"llama3.2\"\n",
    ")\n",
    "\n",
    "agent = AssistantAgent(\n",
    "    name=\"assistant\",\n",
    "    model_client=model_client,\n",
    "    tools=[web_search],\n",
    "    system_message=\"Use tools to solve tasks.\",\n",
    ")"
   ],
   "outputs": [],
   "execution_count": 13
  },
  {
   "metadata": {},
   "cell_type": "markdown",
   "source": [
    "AssistantAgent.on_messages -> Response\n",
    "* Response.inner_messages: [ToolCallRequestEvent, ToolCallExecutionEvent]\n",
    "* ToolCallRequestEvent: source, models_usage, metadata, content, type\n",
    "* ToolCallExecutionEvent: source, models_usage, metadata, content, type"
   ],
   "id": "e3f36e066c375378"
  },
  {
   "metadata": {
    "ExecuteTime": {
     "end_time": "2025-03-21T04:22:41.871268Z",
     "start_time": "2025-03-21T04:22:41.314591Z"
    }
   },
   "cell_type": "code",
   "source": [
    "async def main() -> None:\n",
    "    response = await agent.on_messages(\n",
    "        [TextMessage(content=\"Find information on AutoGen\", source=\"user\")],\n",
    "        cancellation_token=CancellationToken(),\n",
    "    )\n",
    "    print(\"#### response.inner_messages: ###\\n\\n\", response.inner_messages)\n",
    "    print(\"\\n### response.chat_message: ###\\n\\n\",response.chat_message)\n",
    "\n",
    "await main()"
   ],
   "id": "70f7b73cfc23d571",
   "outputs": [
    {
     "name": "stdout",
     "output_type": "stream",
     "text": [
      "#### response.inner_messages: ###\n",
      "\n",
      " [ToolCallRequestEvent(source='assistant', models_usage=RequestUsage(prompt_tokens=211, completion_tokens=20), metadata={}, content=[FunctionCall(id='1', arguments='{\"query\": \"AutoGen programming framework\"}', name='web_search')], type='ToolCallRequestEvent'), ToolCallExecutionEvent(source='assistant', models_usage=None, metadata={}, content=[FunctionExecutionResult(content='AutoGen is a programming framework for building multi-agent applications.', name='web_search', call_id='1', is_error=False)], type='ToolCallExecutionEvent')]\n",
      "\n",
      "### response.chat_message: ###\n",
      "\n",
      " source='assistant' models_usage=None metadata={} content='AutoGen is a programming framework for building multi-agent applications.' type='ToolCallSummaryMessage'\n",
      "None\n"
     ]
    }
   ],
   "execution_count": 15
  },
  {
   "metadata": {},
   "cell_type": "code",
   "outputs": [],
   "execution_count": null,
   "source": "",
   "id": "26be6478ac6ad7c1"
  }
 ],
 "metadata": {
  "kernelspec": {
   "display_name": "Python 3",
   "language": "python",
   "name": "python3"
  },
  "language_info": {
   "codemirror_mode": {
    "name": "ipython",
    "version": 2
   },
   "file_extension": ".py",
   "mimetype": "text/x-python",
   "name": "python",
   "nbconvert_exporter": "python",
   "pygments_lexer": "ipython2",
   "version": "2.7.6"
  }
 },
 "nbformat": 4,
 "nbformat_minor": 5
}
